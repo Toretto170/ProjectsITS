{
 "cells": [
  {
   "cell_type": "code",
   "execution_count": null,
   "outputs": [],
   "source": [
    "# Codice di test per la creazione della tabella regioni \n",
    "\n",
    "# Creazione del df regioni\n",
    "df_regioni = df_agriturismi_copia[['Regione']].drop_duplicates(subset=['Regione'])\n",
    "\n",
    "# Normalizza l'indice\n",
    "df_regioni.reset_index(drop=True, inplace=True)\n",
    "\n",
    "# Crea una colonna ID_Regione per gestire la chiave primaria della tabella regione\n",
    "df_regioni['ID_Regione'] = range(1, len(df_regioni) + 1)\n",
    "\n",
    "# File csv del df_regioni\n",
    "regione_csv = 'regioni.csv'\n",
    "df_regioni.to_csv(regione_csv, index=False)"
   ],
   "metadata": {
    "collapsed": false
   },
   "id": "41ff282c9de66384"
  },
  {
   "cell_type": "code",
   "execution_count": null,
   "id": "initial_id",
   "metadata": {
    "collapsed": true
   },
   "outputs": [],
   "source": [
    "# Codice di prova per la creazione della tabella delle statistiche\n",
    "\n",
    "# Medie per regione ed anno\n",
    "medie_arrivi_agriturismi_per_regione_anno = df_agriturismi.groupby(['Regione', 'Anno'])['Arrivi'].mean()\n",
    "medie_arrivi_alberghi_per_regione_anno = df_alberghi.groupby(['Regione', 'Anno'])['Arrivi'].mean()\n",
    "medie_arrivi_campeggi_per_regione_anno = df_campeggi_villaggi.groupby(['Regione', 'Anno'])['Arrivi'].mean()\n",
    "\n",
    "medie_presenze_agriturismi_per_regione_anno = df_agriturismi.groupby(['Regione', 'Anno'])['Presenze'].mean()\n",
    "medie_presenze_alberghi_per_regione_anno = df_alberghi.groupby(['Regione', 'Anno'])['Presenze'].mean()\n",
    "medie_presenze_campeggi_per_regione_anno = df_campeggi_villaggi.groupby(['Regione', 'Anno'])['Presenze'].mean()\n",
    "\n",
    "# Deviazioni standard per regione ed anno\n",
    "std_arrivi_agriturismi_per_regione_anno = df_agriturismi.groupby(['Regione', 'Anno'])['Arrivi'].std()\n",
    "std_arrivi_alberghi_per_regione_anno = df_alberghi.groupby(['Regione', 'Anno'])['Arrivi'].std()\n",
    "std_arrivi_campeggi_per_regione_anno = df_campeggi_villaggi.groupby(['Regione', 'Anno'])['Arrivi'].std()\n",
    "\n",
    "std_presenze_agriturismi_per_regione_anno = df_agriturismi.groupby(['Regione', 'Anno'])['Presenze'].std()\n",
    "std_presenze_alberghi_per_regione_anno = df_alberghi.groupby(['Regione', 'Anno'])['Presenze'].std()\n",
    "std_presenze_campeggi_per_regione_anno = df_campeggi_villaggi.groupby(['Regione', 'Anno'])['Presenze'].std()\n",
    "\n",
    "# set_option --> mostra tutti i valori\n",
    "pd.set_option('display.max_rows', None)\n",
    "display(medie_arrivi_agriturismi_per_regione_anno)\n",
    "display(medie_presenze_agriturismi_per_regione_anno)\n"
   ]
  },
  {
   "cell_type": "code",
   "execution_count": null,
   "outputs": [],
   "source": [
    "# Codice di test per la tabella statistiche\n",
    "\n",
    "# Creazione dei df\n",
    "medie_arrivi_df = medie_arrivi_agriturismi_per_regione_anno.to_frame()\n",
    "medie_presenze_df = medie_presenze_agriturismi_per_regione_anno.to_frame()\n",
    "\n",
    "# Unione dei due df in base alle colonne Regione e Anno per quello che riguarda gli Arrivi\n",
    "stats_medie_agriturismi = medie_arrivi_df.merge(medie_presenze_df, on=['Regione', 'Anno'])\n",
    "\n",
    "# Unione dei due df in base alle colonne Regione e Anno per quello che riguarda le Presenze\n",
    "stats_medie_agriturismi = stats_medie_agriturismi.merge(df_regioni, on='Regione', how='left')\n",
    "\n",
    "# Ordina il df in base all'ID_Regione\n",
    "stats_medie_agriturismi = stats_medie_agriturismi.sort_values(by='ID_Regione')\n",
    "\n",
    "# Creazione del file csv di medie agriturismi\n",
    "file_csv = 'medie_agriturismi.csv'\n",
    "\n",
    "# Export del file csv\n",
    "stats_medie_agriturismi.to_csv(file_csv, index=False)\n"
   ],
   "metadata": {
    "collapsed": false
   },
   "id": "c01151d5e3ec1d6f"
  },
  {
   "cell_type": "code",
   "execution_count": null,
   "outputs": [],
   "source": [
    "# Stesso procedimento per quello che riguarda gli alberghi\n",
    "medie_arrivi_df_al = medie_arrivi_alberghi_per_regione_anno.to_frame()\n",
    "medie_presenze_df_al = medie_presenze_alberghi_per_regione_anno.to_frame()\n",
    "\n",
    "# arrivi\n",
    "stats_medie_alberghi = medie_arrivi_df_al.merge(medie_presenze_df_al, on=['Regione', 'Anno'])\n",
    "\n",
    "\n",
    "stats_medie_alberghi = stats_medie_alberghi.merge(df_regioni, on='Regione', how='left')\n",
    "\n",
    "# reset dell'indice\n",
    "stats_medie_alberghi = stats_medie_alberghi.reset_index(drop=True)\n",
    "\n",
    "# Ordina il df per id_regione\n",
    "stats_medie_alberghi = stats_medie_alberghi.sort_values(by='ID_Regione')\n",
    "\n",
    "# file csv\n",
    "file_csv = 'medie_alberghi.csv'\n",
    "\n",
    "stats_medie_alberghi.to_csv(file_csv, index=False)"
   ],
   "metadata": {
    "collapsed": false
   },
   "id": "dd92e93e819c3daf"
  },
  {
   "cell_type": "code",
   "execution_count": null,
   "outputs": [],
   "source": [
    "# Unione dei df con la tabella Regione\n",
    "df_agriturismi = df_agriturismi.merge(df_regioni, on='Regione', how='inner')\n",
    "df_alberghi = df_alberghi.merge(df_regioni, on='Regione', how='inner')\n",
    "df_campeggi_villaggi = df_campeggi_villaggi.merge(df_regioni, on='Regione', how='inner')\n",
    "\n",
    "display(df_alberghi)"
   ],
   "metadata": {
    "collapsed": false
   },
   "id": "6c37cf131ac0d346"
  },
  {
   "cell_type": "code",
   "execution_count": null,
   "outputs": [],
   "source": [
    "display(df_agriturismi)\n",
    "display(df_alberghi)\n",
    "display(df_campeggi_villaggi)"
   ],
   "metadata": {
    "collapsed": false
   },
   "id": "269e000cd66a96cb"
  },
  {
   "cell_type": "code",
   "execution_count": null,
   "outputs": [],
   "source": [
    "# reset indice per id\n",
    "df_alberghi = df_alberghi.reset_index(drop=True)\n",
    "display(df_alberghi)"
   ],
   "metadata": {
    "collapsed": false
   },
   "id": "2897f4da27b10e6c"
  },
  {
   "cell_type": "code",
   "execution_count": null,
   "outputs": [],
   "source": [
    "# creazione della tabella regione per il db\n",
    "df_regioni.to_sql('Regioni', conn, index=False, if_exists='replace')"
   ],
   "metadata": {
    "collapsed": false
   },
   "id": "e5c80d03bdcc8e6"
  }
 ],
 "metadata": {
  "kernelspec": {
   "display_name": "Python 3",
   "language": "python",
   "name": "python3"
  },
  "language_info": {
   "codemirror_mode": {
    "name": "ipython",
    "version": 2
   },
   "file_extension": ".py",
   "mimetype": "text/x-python",
   "name": "python",
   "nbconvert_exporter": "python",
   "pygments_lexer": "ipython2",
   "version": "2.7.6"
  }
 },
 "nbformat": 4,
 "nbformat_minor": 5
}
